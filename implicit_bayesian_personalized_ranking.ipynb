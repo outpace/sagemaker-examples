{
 "cells": [
  {
   "cell_type": "markdown",
   "metadata": {},
   "source": [
    "# Implicit Bayesian Personalized Ranking\n",
    "\n",
    "A recommender model that learns a matrix factorization embedding based off minimizing the pairwise ranking loss.\n",
    "\n",
    "[Implicit BPR Documentation](https://implicit.readthedocs.io/en/latest/bpr.html)\n",
    "\n",
    "## Table of contents\n",
    "\n",
    "* [Sample files](#sample-files)\n",
    "* [Step 1 - Prepare training data](#prepare-training-data)\n",
    " * [Download lastfm 360k dataset](#download)\n",
    " * [Prepare lastfm artist play data](#prepare-data)\n",
    " * [Create training data file](#create-training-data-file)\n",
    " * [Upload training data file](#upload-training-data)\n",
    "* [Step 2 - Create a model](#create-model)\n",
    " * [Run a SageMaker training job](#run-training-job)\n",
    " * [Create a SageMaker model](#create-sagemaker-model)\n",
    "* [Step 3 - Get recommendations (inference)](#get-recommendations)\n",
    " * [Example users](#example-users)\n",
    " * [Create batch transform input file](#create-batch-input)\n",
    " * [Upload the batch transform input file to s3](#upload-batch-input)\n",
    " * [Run the Batch Transform Job](#run-transform)\n",
    " * [Download the batch results](#download-batch-results)\n",
    " * [Recommendations with scores](#recommendations)\n",
    " * [User history](#user-history)\n",
    "* [Step 4 - Optional Cleanup](#cleanup)\n",
    "\n",
    "## Sample files <a id=\"sample-files\"></a>\n",
    "\n",
    "These links are to example files on github.\n",
    "\n",
    "* [training input file](https://github.com/outpace/sagemaker-examples/blob/master/implicit-bpr/training/lastfm-360k-1mm-clean.csv)\n",
    "* [batch transform input file](https://github.com/outpace/sagemaker-examples/blob/master/implicit-bpr/batch_input/recommendation.requests)\n",
    "* [batch transform output file](https://github.com/outpace/sagemaker-examples/blob/master/implicit-bpr/recommendation.requests.out)\n",
    "\n",
    "## Step 1 - Prepare training data <a id=\"prepare-training-data\"></a>\n",
    "### Download lastfm 360k dataset <a id=\"download\"></a>"
   ]
  },
  {
   "cell_type": "code",
   "execution_count": 8,
   "metadata": {},
   "outputs": [
    {
     "name": "stdout",
     "output_type": "stream",
     "text": [
      "File 'lastfm-dataset-360K.tar.gz' already there; not retrieving.\n",
      "\n",
      "x lastfm-dataset-360K/\n",
      "x lastfm-dataset-360K/usersha1-artmbid-artname-plays.tsv\n",
      "x lastfm-dataset-360K/README.txt\n",
      "x lastfm-dataset-360K/mbox_sha1sum.py\n",
      "x lastfm-dataset-360K/usersha1-profile.tsv\n",
      "00000c289a1829a808ac09c00daf10bc3c4e223b\t3bd73256-3905-4f3a-97e2-8b341527f805\tbetty blowtorch\t2137\n",
      "00000c289a1829a808ac09c00daf10bc3c4e223b\tf2fb0ff0-5679-42ec-a55c-15109ce6e320\tdie Ärzte\t1099\n",
      "00000c289a1829a808ac09c00daf10bc3c4e223b\tb3ae82c2-e60b-4551-a76d-6620f1b456aa\tmelissa etheridge\t897\n",
      "00000c289a1829a808ac09c00daf10bc3c4e223b\t3d6bbeb7-f90e-4d10-b440-e153c0d10b53\telvenking\t717\n",
      "00000c289a1829a808ac09c00daf10bc3c4e223b\tbbd2ffd7-17f4-4506-8572-c1ea58c3f9a8\tjuliette & the licks\t706\n",
      "00000c289a1829a808ac09c00daf10bc3c4e223b\t8bfac288-ccc5-448d-9573-c33ea2aa5c30\tred hot chili peppers\t691\n",
      "00000c289a1829a808ac09c00daf10bc3c4e223b\t6531c8b1-76ea-4141-b270-eb1ac5b41375\tmagica\t545\n",
      "00000c289a1829a808ac09c00daf10bc3c4e223b\t21f3573f-10cf-44b3-aeaa-26cccd8448b5\tthe black dahlia murder\t507\n",
      "00000c289a1829a808ac09c00daf10bc3c4e223b\tc5db90c4-580d-4f33-b364-fbaa5a3a58b5\tthe murmurs\t424\n",
      "00000c289a1829a808ac09c00daf10bc3c4e223b\t0639533a-0402-40ba-b6e0-18b067198b73\tlunachicks\t403\n"
     ]
    }
   ],
   "source": [
    "!wget --no-clobber http://mtg.upf.edu/static/datasets/last.fm/lastfm-dataset-360K.tar.gz\n",
    "!tar -xvf lastfm-dataset-360K.tar.gz\n",
    "!head lastfm-dataset-360K/usersha1-artmbid-artname-plays.tsv"
   ]
  },
  {
   "cell_type": "markdown",
   "metadata": {},
   "source": [
    "### Prepare lastfm artist play training data <a id=\"prepare-data\"></a>\n",
    "\n",
    "Import the tab separated lastfm file. Take only the first 1 million rows to save memory and processing time. Drop any rows with null values in `item_id`, `user_id`, `total_interactions`, `artist_name`."
   ]
  },
  {
   "cell_type": "code",
   "execution_count": 9,
   "metadata": {},
   "outputs": [
    {
     "name": "stdout",
     "output_type": "stream",
     "text": [
      "(987161, 4)\n"
     ]
    },
    {
     "data": {
      "text/html": [
       "<div>\n",
       "<style scoped>\n",
       "    .dataframe tbody tr th:only-of-type {\n",
       "        vertical-align: middle;\n",
       "    }\n",
       "\n",
       "    .dataframe tbody tr th {\n",
       "        vertical-align: top;\n",
       "    }\n",
       "\n",
       "    .dataframe thead th {\n",
       "        text-align: right;\n",
       "    }\n",
       "</style>\n",
       "<table border=\"1\" class=\"dataframe\">\n",
       "  <thead>\n",
       "    <tr style=\"text-align: right;\">\n",
       "      <th></th>\n",
       "      <th>user_id</th>\n",
       "      <th>item_id</th>\n",
       "      <th>artist_name</th>\n",
       "      <th>total_interactions</th>\n",
       "    </tr>\n",
       "  </thead>\n",
       "  <tbody>\n",
       "    <tr>\n",
       "      <th>0</th>\n",
       "      <td>00000c289a1829a808ac09c00daf10bc3c4e223b</td>\n",
       "      <td>3bd73256-3905-4f3a-97e2-8b341527f805</td>\n",
       "      <td>betty blowtorch</td>\n",
       "      <td>2137</td>\n",
       "    </tr>\n",
       "    <tr>\n",
       "      <th>1</th>\n",
       "      <td>00000c289a1829a808ac09c00daf10bc3c4e223b</td>\n",
       "      <td>f2fb0ff0-5679-42ec-a55c-15109ce6e320</td>\n",
       "      <td>die Ärzte</td>\n",
       "      <td>1099</td>\n",
       "    </tr>\n",
       "    <tr>\n",
       "      <th>2</th>\n",
       "      <td>00000c289a1829a808ac09c00daf10bc3c4e223b</td>\n",
       "      <td>b3ae82c2-e60b-4551-a76d-6620f1b456aa</td>\n",
       "      <td>melissa etheridge</td>\n",
       "      <td>897</td>\n",
       "    </tr>\n",
       "    <tr>\n",
       "      <th>3</th>\n",
       "      <td>00000c289a1829a808ac09c00daf10bc3c4e223b</td>\n",
       "      <td>3d6bbeb7-f90e-4d10-b440-e153c0d10b53</td>\n",
       "      <td>elvenking</td>\n",
       "      <td>717</td>\n",
       "    </tr>\n",
       "    <tr>\n",
       "      <th>4</th>\n",
       "      <td>00000c289a1829a808ac09c00daf10bc3c4e223b</td>\n",
       "      <td>bbd2ffd7-17f4-4506-8572-c1ea58c3f9a8</td>\n",
       "      <td>juliette &amp; the licks</td>\n",
       "      <td>706</td>\n",
       "    </tr>\n",
       "  </tbody>\n",
       "</table>\n",
       "</div>"
      ],
      "text/plain": [
       "                                    user_id  \\\n",
       "0  00000c289a1829a808ac09c00daf10bc3c4e223b   \n",
       "1  00000c289a1829a808ac09c00daf10bc3c4e223b   \n",
       "2  00000c289a1829a808ac09c00daf10bc3c4e223b   \n",
       "3  00000c289a1829a808ac09c00daf10bc3c4e223b   \n",
       "4  00000c289a1829a808ac09c00daf10bc3c4e223b   \n",
       "\n",
       "                                item_id           artist_name  \\\n",
       "0  3bd73256-3905-4f3a-97e2-8b341527f805       betty blowtorch   \n",
       "1  f2fb0ff0-5679-42ec-a55c-15109ce6e320             die Ärzte   \n",
       "2  b3ae82c2-e60b-4551-a76d-6620f1b456aa     melissa etheridge   \n",
       "3  3d6bbeb7-f90e-4d10-b440-e153c0d10b53             elvenking   \n",
       "4  bbd2ffd7-17f4-4506-8572-c1ea58c3f9a8  juliette & the licks   \n",
       "\n",
       "   total_interactions  \n",
       "0                2137  \n",
       "1                1099  \n",
       "2                 897  \n",
       "3                 717  \n",
       "4                 706  "
      ]
     },
     "execution_count": 9,
     "metadata": {},
     "output_type": "execute_result"
    }
   ],
   "source": [
    "import pandas as pd\n",
    "\n",
    "df = pd.read_csv('lastfm-dataset-360K/usersha1-artmbid-artname-plays.tsv', \n",
    "                 sep=\"\\t\", \n",
    "                 header=None, \n",
    "                 names=[\"user_id\", \"item_id\", \"artist_name\", \"total_interactions\"], \n",
    "                 nrows=1000000)\n",
    "df = df.dropna(subset=['item_id', 'user_id', 'total_interactions', 'artist_name'])\n",
    "print(df.shape)\n",
    "df.head()"
   ]
  },
  {
   "cell_type": "markdown",
   "metadata": {},
   "source": [
    "### Create training data file <a id=\"create-training-data-file\"></a>\n",
    "\n",
    "Create a csv file from the dataframe above. Do not include the index, but include headers `user_id`, `item_id`, and `total_interactions`. Show the head of the file."
   ]
  },
  {
   "cell_type": "code",
   "execution_count": 49,
   "metadata": {},
   "outputs": [
    {
     "name": "stdout",
     "output_type": "stream",
     "text": [
      "user_id,item_id\r\n",
      "00000c289a1829a808ac09c00daf10bc3c4e223b,3bd73256-3905-4f3a-97e2-8b341527f805\r\n",
      "00000c289a1829a808ac09c00daf10bc3c4e223b,f2fb0ff0-5679-42ec-a55c-15109ce6e320\r\n",
      "00000c289a1829a808ac09c00daf10bc3c4e223b,b3ae82c2-e60b-4551-a76d-6620f1b456aa\r\n",
      "00000c289a1829a808ac09c00daf10bc3c4e223b,3d6bbeb7-f90e-4d10-b440-e153c0d10b53\r\n",
      "00000c289a1829a808ac09c00daf10bc3c4e223b,bbd2ffd7-17f4-4506-8572-c1ea58c3f9a8\r\n",
      "00000c289a1829a808ac09c00daf10bc3c4e223b,8bfac288-ccc5-448d-9573-c33ea2aa5c30\r\n",
      "00000c289a1829a808ac09c00daf10bc3c4e223b,6531c8b1-76ea-4141-b270-eb1ac5b41375\r\n",
      "00000c289a1829a808ac09c00daf10bc3c4e223b,21f3573f-10cf-44b3-aeaa-26cccd8448b5\r\n",
      "00000c289a1829a808ac09c00daf10bc3c4e223b,c5db90c4-580d-4f33-b364-fbaa5a3a58b5\r\n"
     ]
    }
   ],
   "source": [
    "data_dir = 'implicit-bpr'\n",
    "train_data_dir = '{}/training'.format(data_dir)\n",
    "train_data_file = '{}/lastfm-360k-1mm-clean.csv'.format(train_data_dir)\n",
    "\n",
    "!mkdir -p {train_data_dir}\n",
    "df[[\"user_id\", \"item_id\"]].to_csv(train_data_file, index=False)\n",
    "\n",
    "!head {train_data_file}"
   ]
  },
  {
   "cell_type": "markdown",
   "metadata": {},
   "source": [
    "### Upload training data to s3 <a id=\"upload-training-data\"></a>\n",
    "\n",
    "Choose a bucket, optionally customize the prefix, and upload the csv created above."
   ]
  },
  {
   "cell_type": "code",
   "execution_count": 50,
   "metadata": {},
   "outputs": [
    {
     "data": {
      "text/plain": [
       "'uploaded training data file to s3://sagemaker-validation-us-west-2/implicit-bpr-test/training'"
      ]
     },
     "execution_count": 50,
     "metadata": {},
     "output_type": "execute_result"
    }
   ],
   "source": [
    "import sagemaker\n",
    "\n",
    "bucket = \"sagemaker-validation-us-west-2\"\n",
    "prefix = \"implicit-bpr-test\"\n",
    "\n",
    "sess = sagemaker.Session()\n",
    "\n",
    "s3_train = sess.upload_data(train_data_dir, bucket, \"{}/training\".format(prefix))\n",
    "\"uploaded training data file to {}\".format(s3_train)"
   ]
  },
  {
   "cell_type": "markdown",
   "metadata": {},
   "source": [
    "## Step 2 - Create a model <a id=\"create-model\"></a>\n",
    "\n",
    "### Run a SageMaker training job <a id=\"run-training-job\"></a>\n",
    "\n",
    "This code will start a training job, wait for it to be done, and report its status."
   ]
  },
  {
   "cell_type": "code",
   "execution_count": 13,
   "metadata": {},
   "outputs": [
    {
     "name": "stderr",
     "output_type": "stream",
     "text": [
      "INFO:sagemaker:Creating training-job with name: implicit-bpr-test-2019-02-15-19-19-20-982\n"
     ]
    },
    {
     "name": "stdout",
     "output_type": "stream",
     "text": [
      "2019-02-15 19:19:21 Starting - Starting the training job...\n",
      "2019-02-15 19:19:22 Starting - Launching requested ML instances......\n",
      "2019-02-15 19:20:54 Starting - Preparing the instances for training...\n",
      "2019-02-15 19:21:24 Downloading - Downloading input data...\n",
      "2019-02-15 19:21:43 Training - Downloading the training image...\n",
      "2019-02-15 19:22:30 Uploading - Uploading generated training model\n",
      "\u001b[31mCUDA is available: False\u001b[0m\n",
      "\u001b[31mBeginning training\u001b[0m\n",
      "\u001b[31m/opt/ml/input/data/training data shape: (987161, 3)\u001b[0m\n",
      "\u001b[31mtrained_df_joined data shape: (987161, 5)\u001b[0m\n",
      "\u001b[31mFound users_max: 20461\u001b[0m\n",
      "\u001b[31mFound items_max: 66796\u001b[0m\n",
      "\u001b[31mpickling 20462 users\u001b[0m\n",
      "\u001b[31mpickling 66797 items\u001b[0m\n",
      "\u001b[31mpickling (20462, 66797) user items\u001b[0m\n",
      "\u001b[31mEffective hyperparameters: {'use_gpu': False, 'learning_rate': 0.01, 'iterations': 100, 'regularization': 0.01, 'factors': 100, 'verify_negative_samples': False}\u001b[0m\n",
      "\u001b[31m#015  0%|          | 0/100 [00:00<?, ?it/s]#015  1%|1         | 1/100 [00:00<00:10,  9.86it/s]#015  1%|1         | 1/100 [00:00<00:10,  9.86it/s, correct=49.94%, skipped=0.00%]#015  2%|2         | 2/100 [00:00<00:09,  9.84it/s, correct=49.94%, skipped=0.00%]#015  2%|2         | 2/100 [00:00<00:09,  9.84it/s, correct=49.92%, skipped=0.00%]#015  3%|3         | 3/100 [00:00<00:09,  9.76it/s, correct=49.92%, skipped=0.00%]#015  3%|3         | 3/100 [00:00<00:09,  9.76it/s, correct=49.88%, skipped=0.00%]#015  4%|4         | 4/100 [00:00<00:09,  9.78it/s, correct=49.88%, skipped=0.00%]#015  4%|4         | 4/100 [00:00<00:09,  9.78it/s, correct=49.96%, skipped=0.00%]#015  5%|5         | 5/100 [00:00<00:09,  9.78it/s, correct=50.02%, skipped=0.00%]#015  6%|6         | 6/100 [00:00<00:09,  9.88it/s, correct=50.02%, skipped=0.00%]#015  6%|6         | 6/100 [00:00<00:09,  9.88it/s, correct=49.99%, skipped=0.00%]#015  7%|7         | 7/100 [00:00<00:09,  9.89it/s, correct=49.99%, skipped=0.00%]#015  7%|7         | 7/100 [00:00<00:09,  9.89it/s, correct=49.96%, skipped=0.00%]#015  8%|8         | 8/100 [00:00<00:09,  9.81it/s, correct=49.96%, skipped=0.00%]#015  8%|8         | 8/100 [00:00<00:09,  9.81it/s, correct=49.95%, skipped=0.00%]#015  9%|9         | 9/100 [00:00<00:09,  9.81it/s, correct=49.95%, skipped=0.00%]#015  9%|9         | 9/100 [00:00<00:09,  9.81it/s, correct=50.08%, skipped=0.00%]#015 10%|#         | 10/100 [00:01<00:09,  9.85it/s, correct=50.08%, skipped=0.00%]#015 10%|#         | 10/100 [00:01<00:09,  9.85it/s, correct=50.06%, skipped=0.00%]#015 11%|#1        | 11/100 [00:01<00:09,  9.82it/s, correct=50.06%, skipped=0.00%]#015 11%|#1        | 11/100 [00:01<00:09,  9.82it/s, correct=50.29%, skipped=0.00%]#015 12%|#2        | 12/100 [00:01<00:08,  9.87it/s, correct=50.29%, skipped=0.00%]#015 12%|#2        | 12/100 [00:01<00:08,  9.87it/s, correct=50.53%, skipped=0.00%]#015 13%|#3        | 13/100 [00:01<00:08,  9.86it/s, correct=50.53%, skipped=0.00%]#015 13%|#3        | \u001b[0m\n",
      "\u001b[31mTraining done!\u001b[0m\n",
      "\n",
      "2019-02-15 19:22:51 Completed - Training job completed\n",
      "Billable seconds: 87\n",
      "CPU times: user 685 ms, sys: 68.7 ms, total: 754 ms\n",
      "Wall time: 3min 59s\n"
     ]
    }
   ],
   "source": [
    "%%time\n",
    "\n",
    "import time\n",
    "import sagemaker\n",
    "\n",
    "role_arn = \"arn:aws:iam::435525115971:role/service-role/AmazonSageMaker-ExecutionRole-20181012T121978\"\n",
    "algo_arn = \"arn:aws:sagemaker:us-west-2:594846645681:algorithm/implicit-bpr-2-085a8f2de7e8d057d9c758785eb4e51d\"\n",
    "job_name_prefix = 'implicit-bpr-test'\n",
    "timestamp = time.strftime('-%Y-%m-%d-%H-%M-%S', time.gmtime())\n",
    "job_name = job_name_prefix + timestamp\n",
    "\n",
    "estimator = sagemaker.AlgorithmEstimator(\n",
    "    algorithm_arn = algo_arn,\n",
    "    role=role_arn,\n",
    "    train_instance_count=1,\n",
    "    train_instance_type=\"ml.c5.2xlarge\",\n",
    "    input_mode='File',\n",
    "    output_path='s3://{}/{}/output'.format(bucket, job_name_prefix),\n",
    "    base_job_name=job_name_prefix\n",
    ")\n",
    "\n",
    "test = sagemaker.session.s3_input(\n",
    "    s3_data=\"s3://marriott-ml-us-west-2/implicit-bpr/moments-all/testing/\",\n",
    "    distribution='FullyReplicated',\n",
    "    content_type=\"text/csv\",\n",
    "    s3_data_type='S3Prefix')\n",
    "\n",
    "inputs = {\"training\": s3_train#,\n",
    "          #\"testing\": test\n",
    "         }\n",
    "\n",
    "estimator.fit(inputs)"
   ]
  },
  {
   "cell_type": "markdown",
   "metadata": {},
   "source": [
    "### Create a SageMaker model <a id=\"create-sagemaker-model\"></a>\n",
    "\n",
    "This will set up the model created during training within SageMaker to be used later for recommendations."
   ]
  },
  {
   "cell_type": "code",
   "execution_count": 33,
   "metadata": {},
   "outputs": [
    {
     "name": "stderr",
     "output_type": "stream",
     "text": [
      "INFO:sagemaker:Creating model package with name: implicit-bpr-test-2019-02-15-19-19-20-982\n"
     ]
    }
   ],
   "source": [
    "model_name = estimator.latest_training_job.name\n",
    "sess.create_model_package_from_algorithm(model_name, 'test', algo_arn, estimator.model_data)"
   ]
  },
  {
   "cell_type": "code",
   "execution_count": 43,
   "metadata": {},
   "outputs": [
    {
     "name": "stderr",
     "output_type": "stream",
     "text": [
      "INFO:sagemaker:Creating model with name: implicit-bpr-test-2019-02-15-19-19-20-982\n"
     ]
    },
    {
     "data": {
      "text/plain": [
       "'implicit-bpr-test-2019-02-15-19-19-20-982'"
      ]
     },
     "execution_count": 43,
     "metadata": {},
     "output_type": "execute_result"
    }
   ],
   "source": [
    "sess.create_model(model_name, role_arn, [{'ModelPackageName': model_name}], enable_network_isolation=True)"
   ]
  },
  {
   "cell_type": "markdown",
   "metadata": {},
   "source": [
    "## Step 3 - Get recommendations (Inference) <a id=\"get-recommendations\"></a>\n",
    "\n",
    "### Example users <a id=\"example-users\"></a>\n",
    "\n",
    "Find some example users in order to predict their next rating/watch."
   ]
  },
  {
   "cell_type": "code",
   "execution_count": 34,
   "metadata": {},
   "outputs": [
    {
     "data": {
      "text/html": [
       "<div>\n",
       "<style scoped>\n",
       "    .dataframe tbody tr th:only-of-type {\n",
       "        vertical-align: middle;\n",
       "    }\n",
       "\n",
       "    .dataframe tbody tr th {\n",
       "        vertical-align: top;\n",
       "    }\n",
       "\n",
       "    .dataframe thead th {\n",
       "        text-align: right;\n",
       "    }\n",
       "</style>\n",
       "<table border=\"1\" class=\"dataframe\">\n",
       "  <thead>\n",
       "    <tr style=\"text-align: right;\">\n",
       "      <th></th>\n",
       "      <th>user_id</th>\n",
       "      <th>item_id</th>\n",
       "      <th>artist_name</th>\n",
       "      <th>total_interactions</th>\n",
       "    </tr>\n",
       "  </thead>\n",
       "  <tbody>\n",
       "    <tr>\n",
       "      <th>207869</th>\n",
       "      <td>030ebbd1d8b360ce465a20e30a67a43da97f1b20</td>\n",
       "      <td>a7022764-95fb-46af-a7d6-90056746451a</td>\n",
       "      <td>uma thurman</td>\n",
       "      <td>651</td>\n",
       "    </tr>\n",
       "    <tr>\n",
       "      <th>207870</th>\n",
       "      <td>030ebbd1d8b360ce465a20e30a67a43da97f1b20</td>\n",
       "      <td>0743b15a-3c32-48c8-ad58-cb325350befa</td>\n",
       "      <td>blink-182</td>\n",
       "      <td>649</td>\n",
       "    </tr>\n",
       "    <tr>\n",
       "      <th>391892</th>\n",
       "      <td>05c4bbb936abd2331e8f64037c95a61335d40e30</td>\n",
       "      <td>99d7b49c-c18e-4a11-bf3e-b71710938df6</td>\n",
       "      <td>phoenix</td>\n",
       "      <td>3</td>\n",
       "    </tr>\n",
       "    <tr>\n",
       "      <th>391893</th>\n",
       "      <td>05c4bbb936abd2331e8f64037c95a61335d40e30</td>\n",
       "      <td>bd4d397a-849a-48bf-be24-52eec87feeee</td>\n",
       "      <td>adriana calcanhotto</td>\n",
       "      <td>2</td>\n",
       "    </tr>\n",
       "  </tbody>\n",
       "</table>\n",
       "</div>"
      ],
      "text/plain": [
       "                                         user_id  \\\n",
       "207869  030ebbd1d8b360ce465a20e30a67a43da97f1b20   \n",
       "207870  030ebbd1d8b360ce465a20e30a67a43da97f1b20   \n",
       "391892  05c4bbb936abd2331e8f64037c95a61335d40e30   \n",
       "391893  05c4bbb936abd2331e8f64037c95a61335d40e30   \n",
       "\n",
       "                                     item_id          artist_name  \\\n",
       "207869  a7022764-95fb-46af-a7d6-90056746451a          uma thurman   \n",
       "207870  0743b15a-3c32-48c8-ad58-cb325350befa            blink-182   \n",
       "391892  99d7b49c-c18e-4a11-bf3e-b71710938df6              phoenix   \n",
       "391893  bd4d397a-849a-48bf-be24-52eec87feeee  adriana calcanhotto   \n",
       "\n",
       "        total_interactions  \n",
       "207869                 651  \n",
       "207870                 649  \n",
       "391892                   3  \n",
       "391893                   2  "
      ]
     },
     "execution_count": 34,
     "metadata": {},
     "output_type": "execute_result"
    }
   ],
   "source": [
    "example_users = df[df.user_id.isin([\"05c4bbb936abd2331e8f64037c95a61335d40e30\",\n",
    "                                    \"030ebbd1d8b360ce465a20e30a67a43da97f1b20\"])]\n",
    "example_users"
   ]
  },
  {
   "cell_type": "markdown",
   "metadata": {},
   "source": [
    "### Create batch transform input file <a id=\"create-batch-input\"></a>\n",
    "\n",
    "Each row is a json object containing two keys:\n",
    "\n",
    "* `user_id`: the id of user\n",
    "* `top_n`: the number of top scoring recommendations to return\n",
    "\n",
    "The head of the batch input file is shown."
   ]
  },
  {
   "cell_type": "code",
   "execution_count": 35,
   "metadata": {},
   "outputs": [
    {
     "name": "stdout",
     "output_type": "stream",
     "text": [
      "{\"user_id\": \"05c4bbb936abd2331e8f64037c95a61335d40e30\", \"top_n\": \"5\"}\r\n",
      "{\"user_id\": \"030ebbd1d8b360ce465a20e30a67a43da97f1b20\", \"top_n\": \"5\"}"
     ]
    }
   ],
   "source": [
    "import json\n",
    "\n",
    "batch_input_dir = '{}/batch_input'.format(data_dir)\n",
    "batch_input_file = batch_input_dir + '/recommendation.requests'\n",
    "\n",
    "!mkdir -p {batch_input_dir}\n",
    "\n",
    "with open(batch_input_file, 'w') as outfile:\n",
    "    json.dump({\"user_id\": \"05c4bbb936abd2331e8f64037c95a61335d40e30\", \"top_n\": \"5\"}, outfile)\n",
    "    outfile.write(\"\\n\")\n",
    "    json.dump({\"user_id\": \"030ebbd1d8b360ce465a20e30a67a43da97f1b20\", \"top_n\": \"5\"}, outfile)\n",
    "   \n",
    "!head {batch_input_file}"
   ]
  },
  {
   "cell_type": "markdown",
   "metadata": {},
   "source": [
    "### Upload the batch transform input file to s3 <a id=\"upload-batch-input\"></a>"
   ]
  },
  {
   "cell_type": "code",
   "execution_count": 36,
   "metadata": {},
   "outputs": [
    {
     "data": {
      "text/plain": [
       "'uploaded training data file to s3://sagemaker-validation-us-west-2/implicit-bpr-test/batch_input'"
      ]
     },
     "execution_count": 36,
     "metadata": {},
     "output_type": "execute_result"
    }
   ],
   "source": [
    "batch_input = sess.upload_data(batch_input_dir, bucket, \"{}/batch_input\".format(prefix))\n",
    "\"uploaded training data file to {}\".format(batch_input)"
   ]
  },
  {
   "cell_type": "markdown",
   "metadata": {},
   "source": [
    "### Run the Batch Transform Job <a id=\"run-transform\"></a>\n",
    "\n",
    "This code will start a batch transform job, wait for it to be done, and report its status."
   ]
  },
  {
   "cell_type": "code",
   "execution_count": 48,
   "metadata": {},
   "outputs": [
    {
     "name": "stdout",
     "output_type": "stream",
     "text": [
      "Created Transform job with name:  implicit-bpr-test-2019-02-15-22-25-20\n",
      "Transform job ended with status: Completed\n",
      "CPU times: user 171 ms, sys: 18.2 ms, total: 189 ms\n",
      "Wall time: 3min 34s\n"
     ]
    }
   ],
   "source": [
    "%%time\n",
    "\n",
    "sage = boto3.client(service_name='sagemaker')\n",
    "\n",
    "timestamp = time.strftime('-%Y-%m-%d-%H-%M-%S', time.gmtime())\n",
    "batch_job_name = \"implicit-bpr-test\" + timestamp\n",
    "batch_output = 's3://{}/{}/output'.format(bucket, batch_job_name)\n",
    "request = \\\n",
    "{\n",
    "  \"TransformJobName\": batch_job_name,\n",
    "  \"ModelName\": model_name,\n",
    "  \"BatchStrategy\": \"SingleRecord\",\n",
    "  \"TransformInput\": {\n",
    "    \"DataSource\": {\n",
    "      \"S3DataSource\": {\n",
    "        \"S3DataType\": \"S3Prefix\",\n",
    "        \"S3Uri\": batch_input\n",
    "      }\n",
    "    },\n",
    "    \"ContentType\": \"application/json\",\n",
    "    \"CompressionType\": \"None\",\n",
    "    \"SplitType\": \"Line\"\n",
    "  },\n",
    "  \"TransformOutput\": {\n",
    "    \"S3OutputPath\": batch_output,\n",
    "    \"Accept\": \"text/csv\",\n",
    "    \"AssembleWith\": \"Line\"\n",
    "  },\n",
    "  \"TransformResources\": {\n",
    "    \"InstanceType\": \"ml.c5.2xlarge\",\n",
    "    \"InstanceCount\": 1\n",
    "  }\n",
    "}\n",
    "\n",
    "sage.create_transform_job(**request)\n",
    "\n",
    "print(\"Created Transform job with name: \", batch_job_name)\n",
    "\n",
    "while(True):\n",
    "    job_info = sage.describe_transform_job(TransformJobName=batch_job_name)\n",
    "    status = job_info['TransformJobStatus']\n",
    "    if status == 'Completed':\n",
    "        print(\"Transform job ended with status: \" + status)\n",
    "        break\n",
    "    if status == 'Failed':\n",
    "        message = job_info['FailureReason']\n",
    "        print('Transform failed with the following error: {}'.format(message))\n",
    "        raise Exception('Transform job failed') \n",
    "    time.sleep(30)"
   ]
  },
  {
   "cell_type": "markdown",
   "metadata": {},
   "source": [
    "### Download the batch results <a id=\"download-batch-results\"></a>\n",
    "\n",
    "Show the head of the file."
   ]
  },
  {
   "cell_type": "code",
   "execution_count": null,
   "metadata": {},
   "outputs": [],
   "source": [
    "!aws s3 cp {batch_output + '/recommendation.requests.out'} {data_dir}\n",
    "\n",
    "!head {data_dir}/recommendation.requests.out"
   ]
  },
  {
   "cell_type": "markdown",
   "metadata": {},
   "source": [
    "### Recommendations with scores <a id=\"recommendations\"></a>\n",
    "\n",
    "Import the recommendations from the batch output file downloaded above and join with artist names. These are the top 5 artist recommendations for our example users."
   ]
  },
  {
   "cell_type": "code",
   "execution_count": null,
   "metadata": {},
   "outputs": [],
   "source": [
    "recommendations_df = pd.read_csv('{}/recommendation.requests.out'.format(data_dir), \n",
    "                                 header=None, \n",
    "                                 names=[\"user_id\", \"item_id\", \"score\"])\n",
    "artist_names = df.groupby(['item_id']).agg(lambda x: x.iloc[0])[[\"artist_name\"]]\n",
    "recommendations_df = recommendations_df.join(artist_names, on='item_id')\n",
    "recommendations_df"
   ]
  },
  {
   "cell_type": "markdown",
   "metadata": {},
   "source": [
    "### User history <a id=\"user-history\"></a>\n",
    "\n",
    "Show the example users' history again for convenience."
   ]
  },
  {
   "cell_type": "code",
   "execution_count": null,
   "metadata": {},
   "outputs": [],
   "source": [
    "example_users"
   ]
  },
  {
   "cell_type": "markdown",
   "metadata": {},
   "source": [
    "## Step 4 - Optional Clean up <a id=\"cleanup\"></a>"
   ]
  },
  {
   "cell_type": "code",
   "execution_count": null,
   "metadata": {},
   "outputs": [],
   "source": [
    "def cleanup():\n",
    "    !rm lastfm-dataset-360K.tar.gz 2> /dev/null\n",
    "    !rm -fr implicit-bpr/ 2> /dev/null\n",
    "    !rm -fr lastfm-dataset-360K/ 2> /dev/null\n",
    "    sagemaker.delete_model(ModelName = model_name)\n",
    "    \n",
    "# optionally uncomment and run the code to clean everything up  \n",
    "\n",
    "#cleanup()"
   ]
  },
  {
   "cell_type": "code",
   "execution_count": null,
   "metadata": {},
   "outputs": [],
   "source": []
  }
 ],
 "metadata": {
  "kernelspec": {
   "display_name": "Python 3",
   "language": "python",
   "name": "python3"
  },
  "language_info": {
   "codemirror_mode": {
    "name": "ipython",
    "version": 3
   },
   "file_extension": ".py",
   "mimetype": "text/x-python",
   "name": "python",
   "nbconvert_exporter": "python",
   "pygments_lexer": "ipython3",
   "version": "3.7.1"
  }
 },
 "nbformat": 4,
 "nbformat_minor": 2
}
